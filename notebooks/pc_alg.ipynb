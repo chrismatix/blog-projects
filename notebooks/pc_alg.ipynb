{
 "cells": [
  {
   "cell_type": "code",
   "execution_count": null,
   "id": "24d22152-354b-4bf4-9728-3102055ef5e5",
   "metadata": {
    "pycharm": {
     "is_executing": true
    }
   },
   "outputs": [],
   "source": [
    "import numpy as np\n",
    "from tigramite.independence_tests import OracleCI\n",
    "from tigramite import plotting as tp"
   ]
  },
  {
   "cell_type": "markdown",
   "id": "26111f74-7601-4576-bcf2-478c020df8ed",
   "metadata": {},
   "source": [
    "### Links of the Causal Graph\n",
    "\n",
    "Links can be initialized as a dictionary with a (key, value) pair for each variable $i$:\n",
    "\n",
    "$\\{i:[(j,0),(k,0)]\\}$\n",
    "\n",
    "where $i$ has $j,k$ as parents at lag 0.\n",
    "In this excercise, all causal links are assumed to be at lag 0, i.e., we work with non-time-series data."
   ]
  },
  {
   "cell_type": "code",
   "execution_count": 2,
   "id": "29aa676c-8204-4c7c-86f2-33b1eb53907d",
   "metadata": {},
   "outputs": [],
   "source": [
    "#For an unshielded collider links should look as follows:\n",
    "\n",
    "links = {0: [(1, 0), (2, 0)], 1: [], 2: []}"
   ]
  },
  {
   "cell_type": "markdown",
   "id": "5c0b1474-5cf9-40d5-8901-972c736759c7",
   "metadata": {},
   "source": [
    "### Visualizing the Graph\n",
    "\n",
    "Use the functionality of OracleCI to generate a graph corresponding to the links.\n",
    "\n",
    "Note that the graph is mirror-symmetric around the diagonal, i.e., if $i$ is a parent of $j$ $\\Rightarrow$ $j$ is a child of $i$"
   ]
  },
  {
   "cell_type": "code",
   "execution_count": 3,
   "id": "11cc6105-af9d-4719-a8e2-93bb1892a345",
   "metadata": {},
   "outputs": [
    {
     "name": "stdout",
     "output_type": "stream",
     "text": [
      "[['' '<--' '<--']\n",
      " ['-->' '' '']\n",
      " ['-->' '' '']]\n"
     ]
    }
   ],
   "source": [
    "oracle = OracleCI(links=links)\n",
    "\n",
    "graph = oracle.graph\n",
    "\n",
    "print(graph[:, :, 0])"
   ]
  },
  {
   "cell_type": "code",
   "execution_count": 4,
   "id": "12c32804-fe02-4b29-b90c-195af6edbeb1",
   "metadata": {},
   "outputs": [
    {
     "data": {
      "text/plain": "(<Figure size 640x480 with 1 Axes>, <AxesSubplot: >)"
     },
     "execution_count": 4,
     "metadata": {},
     "output_type": "execute_result"
    },
    {
     "data": {
      "text/plain": "<Figure size 640x480 with 1 Axes>",
      "image/png": "[encoded data removed]"
     },
     "metadata": {},
     "output_type": "display_data"
    }
   ],
   "source": [
    "tp.plot_graph(graph=graph)"
   ]
  },
  {
   "cell_type": "markdown",
   "id": "b83b9622-6c07-4992-830b-61ac1c827585",
   "metadata": {},
   "source": [
    "### Testing for Conditional Independence\n",
    "\n",
    "Recall that the null hypothesis is (conditional) independence, so:\n",
    "\n",
    "p-value == 1 $\\Rightarrow$ independence\n",
    "\n",
    "p-value == 0 $\\Rightarrow$ dependence"
   ]
  },
  {
   "cell_type": "code",
   "execution_count": 5,
   "id": "2502bda8-8f33-4f2b-8e04-0e92d52ecfcf",
   "metadata": {},
   "outputs": [
    {
     "data": {
      "text/plain": "(1.0, 0.0)"
     },
     "execution_count": 5,
     "metadata": {},
     "output_type": "execute_result"
    }
   ],
   "source": [
    "# Test whether 1 and 2 are independent given Z = empty set versus Z = 0.\n",
    "_, pval_1 = oracle.run_test(X=[(1, 0)], Y=[(2, 0)], Z=[])\n",
    "_, pval_2 = oracle.run_test(X=[(1, 0)], Y=[(2, 0)], Z=[(0, 0)])\n",
    "pval_1, pval_2"
   ]
  },
  {
   "cell_type": "markdown",
   "id": "a090bda3-9392-4a0e-b0b6-768a76d6fa9a",
   "metadata": {},
   "source": [
    "### Write a class to run the PC algorithm\n",
    "with arguments\n",
    "1. total number of variables and\n",
    "\n",
    "2. oracle object"
   ]
  },
  {
   "cell_type": "code",
   "execution_count": 6,
   "outputs": [],
   "source": [
    "import networkx as nx\n",
    "import itertools\n",
    "\n",
    "\n",
    "class PC:\n",
    "    n_var: int\n",
    "    oracle: OracleCI\n",
    "\n",
    "    def __init__(self, n_var: int, oracle: OracleCI):\n",
    "        self.n_var = n_var\n",
    "        self.oracle = oracle\n",
    "\n",
    "    def run(self):\n",
    "        # No self-loops: Remove diagonal\n",
    "        adj = (np.ones((self.n_var, self.n_var)) - np.identity(self.n_var)).astype(np.int8)\n",
    "        sepsets = [[[] for i in range(self.n_var)] for j in range(self.n_var)]\n",
    "        p = 0\n",
    "\n",
    "        # Step 1: Obtain skeleton\n",
    "        # While there exists an ordered pair (X, Y) where | adj(G, Y) \\ X | >= p\n",
    "        # adj.sum(1) - 1 : Sum all the adjacencies of Y minus any X\n",
    "        while np.any(adj.sum(1) - 1 >= p):\n",
    "            # i = index of Y\n",
    "            for i in range(self.n_var):\n",
    "                # For all S in adj(G, Y) \\ X where |S| = p do\n",
    "                if adj[i].sum() - 1 < p:\n",
    "                    continue\n",
    "\n",
    "                # Get all S in adj(G, Y) \\ X of length P\n",
    "                # j = index of X\n",
    "                for j in range(self.n_var):\n",
    "                    if adj[i][j] == 0:\n",
    "                        continue\n",
    "\n",
    "                    # Get the set of adjacencies of Y without X\n",
    "                    remaining_adj = np.copy(adj[i])\n",
    "                    remaining_adj[j] = 0\n",
    "                    remaining_adj_ind = np.argwhere(remaining_adj > 0).flatten()\n",
    "                    # Test all subsets of cardinality p\n",
    "                    for S in itertools.combinations(remaining_adj_ind, p):\n",
    "                        _, pval = self.oracle.run_test(X=[(j, 0)], Y=[(i, 0)], Z=[(s, 0) for s in S])\n",
    "                        if pval == 1:\n",
    "                            adj[i, j] = adj[j, i] = 0\n",
    "                            sepsets[i][j] = sepsets[j][i] = list(S)\n",
    "                            break\n",
    "            p += 1\n",
    "\n",
    "        # Step 2: Orient all unshielded triplets\n",
    "        cpdag = adj.copy()\n",
    "        for y in range(0, self.n_var):\n",
    "            if cpdag[y].sum() < 2:\n",
    "                continue\n",
    "\n",
    "            xz_edges = np.argwhere(cpdag[y] > 0).flatten()\n",
    "            for S in itertools.combinations(xz_edges, 2):\n",
    "                (x, z) = S\n",
    "                if adj[x, z] == 1:\n",
    "                    # Triplet is shielded\n",
    "                    continue\n",
    "\n",
    "                if y not in sepsets[x][z]:\n",
    "                    # Then y is a collider and we remove its outgoing edges to x and z\n",
    "                    cpdag[y, x] = cpdag[y, z] = 0\n",
    "\n",
    "        # Step 3: Apply orientation rules\n",
    "        self.apply_rule1(cpdag)\n",
    "\n",
    "        # We apply rule 3 before rule 2, because applying rule 2 once destroys\n",
    "        # the structure required for rule 3\n",
    "        self.apply_rule3(cpdag)\n",
    "        self.apply_rule2(cpdag)\n",
    "\n",
    "        return cpdag, self._cpdag_to_links(cpdag)\n",
    "\n",
    "    \"\"\"\n",
    "    Rule 1:\n",
    "\n",
    "    X -> Y - Z becomes X -> Y -> Z\n",
    "    The alternative would be a new unshielded triplet contradicting the end of step 2\n",
    "    \"\"\"\n",
    "    def apply_rule1(self, cpdag):\n",
    "        # In cpdag adj matrix terms:\n",
    "        # 1. If there is at least one edge pointing to Y\n",
    "        # 2. Then orient all other\n",
    "        for y in range(0, self.n_var):\n",
    "            if cpdag[y].sum() < 1:\n",
    "                continue\n",
    "\n",
    "            # all j pointing to y\n",
    "            inbound = np.argwhere(cpdag[:, y] == 1).flatten()\n",
    "\n",
    "            has_outbound = cpdag[y, inbound] == 1\n",
    "            unoriented = inbound[has_outbound]\n",
    "            only_inbound = inbound[~has_outbound]\n",
    "            if len(only_inbound) > 0:\n",
    "                # Orient all edges, i.e. remove inbound cpdag entries\n",
    "                cpdag[unoriented, y] = 0\n",
    "\n",
    "    \"\"\"\n",
    "    Rule 2:\n",
    "\n",
    "     X────┐\n",
    "     │    │\n",
    "     ▼    │\n",
    "     Y───►Z  -> orient Z -> X to prevent a cycle\n",
    "    \"\"\"\n",
    "    def apply_rule2(self, cpdag):\n",
    "        # In cpdag matrix terms:\n",
    "        # All the outbound only vertices must not point to the inbound only vertices\n",
    "        for y in range(0, self.n_var):\n",
    "            if cpdag[y].sum() < 1:\n",
    "                continue\n",
    "\n",
    "                # all j pointing to y\n",
    "            inbound = np.argwhere(cpdag[:, y] == 1).flatten()\n",
    "            only_inbound = inbound[cpdag[y, inbound] == 0]\n",
    "\n",
    "            outbound = np.argwhere(cpdag[y, :] == 1).flatten()\n",
    "            only_outbound = outbound[cpdag[outbound, y] == 0]\n",
    "\n",
    "            # Set all edges pointing only_outbound -> only_inbound = 0\n",
    "            cpdag[only_outbound, only_inbound] = 0\n",
    "\n",
    "    \"\"\"\n",
    "    Rule 3:\n",
    "    ┌──X──┐\n",
    "    │  │  │\n",
    "    Y  │  Z\n",
    "    │  │  │\n",
    "    └─►W◄─┘  -> Orient X -> W\n",
    "\n",
    "    Why? Applying rule 2 (x2) would lead to a new unshielded collider X, Z, W\n",
    "    This would contradict the end of step 2\n",
    "    \"\"\"\n",
    "    def apply_rule3(self, cpdag):\n",
    "        for x in range(0, self.n_var):\n",
    "            if cpdag[x].sum() < 1:\n",
    "                continue\n",
    "\n",
    "            outbound_ind = np.argwhere(cpdag[x] > 0).flatten()\n",
    "            for triplet in itertools.combinations(outbound_ind, 3):\n",
    "                triplet_ind = np.array(triplet)\n",
    "                # Skip if any of the three are oriented\n",
    "                if cpdag[triplet_ind, x].sum() != 3:\n",
    "                    continue\n",
    "\n",
    "                # Find W and orient X -> W\n",
    "                for edge in triplet:\n",
    "                    other_edges = triplet_ind[triplet_ind != edge]\n",
    "\n",
    "                    # Do the other two edges point to edge?\n",
    "                    if cpdag[other_edges, edge].sum() == 2 and cpdag[edge, other_edges].sum() == 0:\n",
    "                        # Orient X -> W (by removing W -> X) and break\n",
    "                        cpdag[edge, x] = 0\n",
    "                        break\n",
    "\n",
    "    def _cpdag_to_links(self, cpdag):\n",
    "        links = {n: [] for n in range(self.n_var)}\n",
    "        for i in range(0, self.n_var):\n",
    "            for j in range(0, self.n_var):\n",
    "                if cpdag[i, j] != 0:\n",
    "                    links[j] += [(i, 0)]\n",
    "        return links\n"
   ],
   "metadata": {
    "collapsed": false
   }
  },
  {
   "cell_type": "code",
   "execution_count": 7,
   "outputs": [
    {
     "name": "stdout",
     "output_type": "stream",
     "text": [
      "[[0 1 0]\n",
      " [0 0 1]\n",
      " [0 0 0]]\n"
     ]
    }
   ],
   "source": [
    "# Rule 1 test\n",
    "a = np.array([\n",
    "    [0, 1, 0],\n",
    "    [0, 0, 1],\n",
    "    [0, 1, 0]])\n",
    "PC(3, None).apply_rule1(a)\n",
    "print(a)\n",
    "assert a[2, 1] == 0, \"The Y - Z edge should have been oriented Y -> Z\""
   ],
   "metadata": {
    "collapsed": false
   }
  },
  {
   "cell_type": "code",
   "execution_count": 8,
   "outputs": [
    {
     "name": "stdout",
     "output_type": "stream",
     "text": [
      "[[0 1 1]\n",
      " [0 0 1]\n",
      " [0 0 0]]\n"
     ]
    }
   ],
   "source": [
    "# Rule 2 test\n",
    "a = np.array([\n",
    "    [0, 1, 1],\n",
    "    [0, 0, 1],\n",
    "    [1, 0, 0]])\n",
    "PC(3, None).apply_rule2(a)\n",
    "print(a)\n",
    "assert a[2, 0] == 0, \"The Z - X edge should have been oriented X -> Z\""
   ],
   "metadata": {
    "collapsed": false
   }
  },
  {
   "cell_type": "code",
   "execution_count": 9,
   "outputs": [
    {
     "name": "stdout",
     "output_type": "stream",
     "text": [
      "[[0 1 1 1]\n",
      " [1 0 0 1]\n",
      " [1 0 0 1]\n",
      " [0 0 0 0]]\n"
     ]
    }
   ],
   "source": [
    "# Rule 3 test\n",
    "a = np.array([\n",
    "    [0, 1, 1, 1],\n",
    "    [1, 0, 0, 1],\n",
    "    [1, 0, 0, 1],\n",
    "    [1, 0, 0, 0]])\n",
    "PC(4, None).apply_rule3(a)\n",
    "print(a)\n",
    "assert a[3, 0] == 0, \"The X - W edge should have been oriented X -> W\""
   ],
   "metadata": {
    "collapsed": false
   }
  },
  {
   "cell_type": "markdown",
   "id": "30d51670-0a93-4b26-95b5-a85f2adfdcbc",
   "metadata": {},
   "source": [
    "### Test your PC algorithm on this causal graph (aka Y-structure):\n",
    "links =  {0: [], 1: [], 2: [(0,0), (1,0)], 3: [(2,0)]}"
   ]
  },
  {
   "cell_type": "code",
   "execution_count": 10,
   "id": "abf3777e-55e4-452a-bcc7-7238794bf83e",
   "metadata": {},
   "outputs": [
    {
     "name": "stdout",
     "output_type": "stream",
     "text": [
      "[[0 0 1 0]\n",
      " [0 0 1 0]\n",
      " [0 0 0 1]\n",
      " [0 0 0 0]]\n",
      "{0: [], 1: [], 2: [(0, 0), (1, 0)], 3: [(2, 0)]}\n"
     ]
    },
    {
     "data": {
      "text/plain": "(<Figure size 640x480 with 1 Axes>, <AxesSubplot: >)"
     },
     "execution_count": 10,
     "metadata": {},
     "output_type": "execute_result"
    },
    {
     "data": {
      "text/plain": "<Figure size 640x480 with 1 Axes>",
      "image/png": "[encoded data removed]"
     },
     "metadata": {},
     "output_type": "display_data"
    }
   ],
   "source": [
    "links = {0: [], 1: [], 2: [(0, 0), (1, 0)], 3: [(2, 0)]}\n",
    "pc = PC(4, OracleCI(links=links))\n",
    "cpdag, links = pc.run()\n",
    "print(cpdag)\n",
    "print(links)\n",
    "tp.plot_graph(graph=OracleCI(links=links).graph)\n"
   ]
  }
 ],
 "metadata": {
  "kernelspec": {
   "display_name": "Python 3 (ipykernel)",
   "language": "python",
   "name": "python3"
  },
  "language_info": {
   "codemirror_mode": {
    "name": "ipython",
    "version": 3
   },
   "file_extension": ".py",
   "mimetype": "text/x-python",
   "name": "python",
   "nbconvert_exporter": "python",
   "pygments_lexer": "ipython3",
   "version": "3.9.7"
  }
 },
 "nbformat": 4,
 "nbformat_minor": 5
}
